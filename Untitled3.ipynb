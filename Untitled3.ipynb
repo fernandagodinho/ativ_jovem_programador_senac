{
  "nbformat": 4,
  "nbformat_minor": 0,
  "metadata": {
    "colab": {
      "provenance": [],
      "authorship_tag": "ABX9TyOsMMRCZ2Cod9IukLKkJWsu",
      "include_colab_link": true
    },
    "kernelspec": {
      "name": "python3",
      "display_name": "Python 3"
    },
    "language_info": {
      "name": "python"
    }
  },
  "cells": [
    {
      "cell_type": "markdown",
      "metadata": {
        "id": "view-in-github",
        "colab_type": "text"
      },
      "source": [
        "<a href=\"https://colab.research.google.com/github/fernandagodinho/ativ_jovem_programador_senac/blob/main/Untitled3.ipynb\" target=\"_parent\"><img src=\"https://colab.research.google.com/assets/colab-badge.svg\" alt=\"Open In Colab\"/></a>"
      ]
    },
    {
      "cell_type": "code",
      "execution_count": 1,
      "metadata": {
        "colab": {
          "base_uri": "https://localhost:8080/"
        },
        "id": "6gC1Qj2lHJg3",
        "outputId": "8a2d3d91-69f8-482c-a57e-b067b151eeda"
      },
      "outputs": [
        {
          "output_type": "stream",
          "name": "stdout",
          "text": [
            "Análise de Dados:\n",
            "           Idade  Dias Vividos\n",
            "count   2.000000      2.000000\n",
            "mean   24.500000   8942.500000\n",
            "std     7.778175   2839.033726\n",
            "min    19.000000   6935.000000\n",
            "25%    21.750000   7938.750000\n",
            "50%    24.500000   8942.500000\n",
            "75%    27.250000   9946.250000\n",
            "max    30.000000  10950.000000\n",
            "\n",
            "Dados:\n",
            "    Nome  Idade  Dias Vividos\n",
            "0  Maria     19          6935\n",
            "1   João     30         10950\n"
          ]
        }
      ],
      "source": [
        "import pandas as pd\n",
        "\n",
        "class CalculadoraDiasVividos:\n",
        "    @staticmethod\n",
        "    def calcular_dias_vividos(nome, idade):\n",
        "        dias_vividos = idade * 365\n",
        "        return {\"Nome\": nome, \"Idade\": idade, \"Dias Vividos\": dias_vividos}\n",
        "\n",
        "# Dados de exemplo\n",
        "dados = [\n",
        "    CalculadoraDiasVividos.calcular_dias_vividos(\"Maria\", 19),\n",
        "    CalculadoraDiasVividos.calcular_dias_vividos(\"João\", 30)\n",
        "]\n",
        "\n",
        "# Criar DataFrame\n",
        "df = pd.DataFrame(dados)\n",
        "\n",
        "# Análise de dados\n",
        "print(\"Análise de Dados:\")\n",
        "print(df.describe())\n",
        "\n",
        "# Exibir DataFrame\n",
        "print(\"\\nDados:\")\n",
        "print(df)\n"
      ]
    }
  ]
}